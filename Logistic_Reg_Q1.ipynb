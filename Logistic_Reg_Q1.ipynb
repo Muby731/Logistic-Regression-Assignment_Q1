{
 "cells": [
  {
   "cell_type": "markdown",
   "id": "880b6d8c",
   "metadata": {},
   "source": [
    "### Toyota_Corolla data => Predict the price based on the following input parameters:-\n",
    "\n",
    "**Input variables => 16**\n",
    "1. Age (numeric)\n",
    "2. Job : Type of Job (categorical: Admin., Unknown, Unemployed, Management, Housemaid, Entrepreneur, Student,  Blue-collar,  Self-employed, Retired, Technician, Services) \n",
    "3. Marital : Marital status (categorical: married, divorced, single)           \n",
    "   *Note: Divorced means Divorced or Widowed*\n",
    "4. Education : (categorical: \"unknown\",\"secondary\",\"primary\",\"tertiary\") \n",
    "5. Default: has credit in default? (Binary: \"yes\",\"no\") \n",
    "6. Balance: average yearly balance => in euros (numeric) \n",
    "7. Housing: has housing loan? (Binary: \"yes\",\"no\") \n",
    "8. Loan: has personal loan? (Binary: \"yes\",\"no\")\n",
    "9. Contact : contact communication type (categorical: ‘cellular’, ‘telephone’)\n",
    "10. Month: last contact month of the year (categorical : ‘jan’, ‘feb’, ‘mar’,…..,’nov’, ’dec’)\n",
    "11. Day_of_the_week : last cantact day of the week (categorical: ‘mon’, ‘tue’, ‘wed’, ‘thu’, ‘ fri’)\n",
    "12. Duration : last contact duration, in seconds (numeric).\n",
    "13. Campaign : number of contact performed during this campaign and for this client (‘numeric’, includes last contact)\n",
    "14. pdays : number of days tat passed after the client last contacted from a previous campaign (numeric ; 999 mean client was not previously connected)\n",
    "15. previous : number of contacts performed before this campaign and for this client (numeric)\n",
    "16. poutcome : outcome of the previous marketing campaign ( categorical : ‘failure’ , ‘nonexistant’, ‘success’)\n",
    "\n",
    "##### y  => Whether the client has subscribed a term deposit or not  (Output variable)  \n",
    "##### Binomial (\"yes\" or \"no\")"
   ]
  },
  {
   "cell_type": "markdown",
   "id": "41679073",
   "metadata": {},
   "source": [
    "## 1. Importing necessary libraries"
   ]
  },
  {
   "cell_type": "code",
   "execution_count": 1,
   "id": "81a95f15",
   "metadata": {},
   "outputs": [],
   "source": [
    "import numpy as np\n",
    "import pandas as pd\n",
    "import matplotlib.pyplot as plt\n",
    "%matplotlib inline\n",
    "import seaborn as sns\n",
    "import statsmodels.formula.api as smf\n",
    "import statsmodels.api as sm\n",
    "import warnings\n",
    "warnings.filterwarnings('ignore')"
   ]
  },
  {
   "cell_type": "markdown",
   "id": "834a1dca",
   "metadata": {},
   "source": [
    "## 2. Importing dataset"
   ]
  },
  {
   "cell_type": "code",
   "execution_count": 2,
   "id": "1d6fdb8d",
   "metadata": {
    "scrolled": true
   },
   "outputs": [
    {
     "data": {
      "text/html": [
       "<div>\n",
       "<style scoped>\n",
       "    .dataframe tbody tr th:only-of-type {\n",
       "        vertical-align: middle;\n",
       "    }\n",
       "\n",
       "    .dataframe tbody tr th {\n",
       "        vertical-align: top;\n",
       "    }\n",
       "\n",
       "    .dataframe thead th {\n",
       "        text-align: right;\n",
       "    }\n",
       "</style>\n",
       "<table border=\"1\" class=\"dataframe\">\n",
       "  <thead>\n",
       "    <tr style=\"text-align: right;\">\n",
       "      <th></th>\n",
       "      <th>age</th>\n",
       "      <th>job</th>\n",
       "      <th>marital</th>\n",
       "      <th>education</th>\n",
       "      <th>default</th>\n",
       "      <th>balance</th>\n",
       "      <th>housing</th>\n",
       "      <th>loan</th>\n",
       "      <th>contact</th>\n",
       "      <th>day</th>\n",
       "      <th>month</th>\n",
       "      <th>duration</th>\n",
       "      <th>campaign</th>\n",
       "      <th>pdays</th>\n",
       "      <th>previous</th>\n",
       "      <th>poutcome</th>\n",
       "      <th>y</th>\n",
       "    </tr>\n",
       "  </thead>\n",
       "  <tbody>\n",
       "    <tr>\n",
       "      <th>0</th>\n",
       "      <td>58</td>\n",
       "      <td>management</td>\n",
       "      <td>married</td>\n",
       "      <td>tertiary</td>\n",
       "      <td>no</td>\n",
       "      <td>2143</td>\n",
       "      <td>yes</td>\n",
       "      <td>no</td>\n",
       "      <td>unknown</td>\n",
       "      <td>5</td>\n",
       "      <td>may</td>\n",
       "      <td>261</td>\n",
       "      <td>1</td>\n",
       "      <td>-1</td>\n",
       "      <td>0</td>\n",
       "      <td>unknown</td>\n",
       "      <td>no</td>\n",
       "    </tr>\n",
       "    <tr>\n",
       "      <th>1</th>\n",
       "      <td>44</td>\n",
       "      <td>technician</td>\n",
       "      <td>single</td>\n",
       "      <td>secondary</td>\n",
       "      <td>no</td>\n",
       "      <td>29</td>\n",
       "      <td>yes</td>\n",
       "      <td>no</td>\n",
       "      <td>unknown</td>\n",
       "      <td>5</td>\n",
       "      <td>may</td>\n",
       "      <td>151</td>\n",
       "      <td>1</td>\n",
       "      <td>-1</td>\n",
       "      <td>0</td>\n",
       "      <td>unknown</td>\n",
       "      <td>no</td>\n",
       "    </tr>\n",
       "    <tr>\n",
       "      <th>2</th>\n",
       "      <td>33</td>\n",
       "      <td>entrepreneur</td>\n",
       "      <td>married</td>\n",
       "      <td>secondary</td>\n",
       "      <td>no</td>\n",
       "      <td>2</td>\n",
       "      <td>yes</td>\n",
       "      <td>yes</td>\n",
       "      <td>unknown</td>\n",
       "      <td>5</td>\n",
       "      <td>may</td>\n",
       "      <td>76</td>\n",
       "      <td>1</td>\n",
       "      <td>-1</td>\n",
       "      <td>0</td>\n",
       "      <td>unknown</td>\n",
       "      <td>no</td>\n",
       "    </tr>\n",
       "    <tr>\n",
       "      <th>3</th>\n",
       "      <td>47</td>\n",
       "      <td>blue-collar</td>\n",
       "      <td>married</td>\n",
       "      <td>unknown</td>\n",
       "      <td>no</td>\n",
       "      <td>1506</td>\n",
       "      <td>yes</td>\n",
       "      <td>no</td>\n",
       "      <td>unknown</td>\n",
       "      <td>5</td>\n",
       "      <td>may</td>\n",
       "      <td>92</td>\n",
       "      <td>1</td>\n",
       "      <td>-1</td>\n",
       "      <td>0</td>\n",
       "      <td>unknown</td>\n",
       "      <td>no</td>\n",
       "    </tr>\n",
       "    <tr>\n",
       "      <th>4</th>\n",
       "      <td>33</td>\n",
       "      <td>unknown</td>\n",
       "      <td>single</td>\n",
       "      <td>unknown</td>\n",
       "      <td>no</td>\n",
       "      <td>1</td>\n",
       "      <td>no</td>\n",
       "      <td>no</td>\n",
       "      <td>unknown</td>\n",
       "      <td>5</td>\n",
       "      <td>may</td>\n",
       "      <td>198</td>\n",
       "      <td>1</td>\n",
       "      <td>-1</td>\n",
       "      <td>0</td>\n",
       "      <td>unknown</td>\n",
       "      <td>no</td>\n",
       "    </tr>\n",
       "  </tbody>\n",
       "</table>\n",
       "</div>"
      ],
      "text/plain": [
       "   age           job  marital  education default  balance housing loan  \\\n",
       "0   58    management  married   tertiary      no     2143     yes   no   \n",
       "1   44    technician   single  secondary      no       29     yes   no   \n",
       "2   33  entrepreneur  married  secondary      no        2     yes  yes   \n",
       "3   47   blue-collar  married    unknown      no     1506     yes   no   \n",
       "4   33       unknown   single    unknown      no        1      no   no   \n",
       "\n",
       "   contact  day month  duration  campaign  pdays  previous poutcome   y  \n",
       "0  unknown    5   may       261         1     -1         0  unknown  no  \n",
       "1  unknown    5   may       151         1     -1         0  unknown  no  \n",
       "2  unknown    5   may        76         1     -1         0  unknown  no  \n",
       "3  unknown    5   may        92         1     -1         0  unknown  no  \n",
       "4  unknown    5   may       198         1     -1         0  unknown  no  "
      ]
     },
     "execution_count": 2,
     "metadata": {},
     "output_type": "execute_result"
    }
   ],
   "source": [
    "bank_data = pd.read_csv(\"bank-full.csv\", sep=\";\")    # Used sep function and got the data in different columns\n",
    "bank_data.head()"
   ]
  },
  {
   "cell_type": "markdown",
   "id": "212157d8",
   "metadata": {},
   "source": [
    "## 3. Initial Data Analysis"
   ]
  },
  {
   "cell_type": "code",
   "execution_count": 3,
   "id": "88d9c88f",
   "metadata": {},
   "outputs": [
    {
     "data": {
      "text/plain": [
       "(45211, 17)"
      ]
     },
     "execution_count": 3,
     "metadata": {},
     "output_type": "execute_result"
    }
   ],
   "source": [
    "bank_data.shape       # To get the total no. of rows and columns"
   ]
  },
  {
   "cell_type": "code",
   "execution_count": 4,
   "id": "ee90babe",
   "metadata": {
    "scrolled": true
   },
   "outputs": [
    {
     "data": {
      "text/plain": [
       "age          0\n",
       "job          0\n",
       "marital      0\n",
       "education    0\n",
       "default      0\n",
       "balance      0\n",
       "housing      0\n",
       "loan         0\n",
       "contact      0\n",
       "day          0\n",
       "month        0\n",
       "duration     0\n",
       "campaign     0\n",
       "pdays        0\n",
       "previous     0\n",
       "poutcome     0\n",
       "y            0\n",
       "dtype: int64"
      ]
     },
     "execution_count": 4,
     "metadata": {},
     "output_type": "execute_result"
    }
   ],
   "source": [
    "bank_data.isna().sum()      # To check for null values"
   ]
  },
  {
   "cell_type": "code",
   "execution_count": 5,
   "id": "8927908e",
   "metadata": {},
   "outputs": [
    {
     "data": {
      "text/plain": [
       "age           int64\n",
       "job          object\n",
       "marital      object\n",
       "education    object\n",
       "default      object\n",
       "balance       int64\n",
       "housing      object\n",
       "loan         object\n",
       "contact      object\n",
       "day           int64\n",
       "month        object\n",
       "duration      int64\n",
       "campaign      int64\n",
       "pdays         int64\n",
       "previous      int64\n",
       "poutcome     object\n",
       "y            object\n",
       "dtype: object"
      ]
     },
     "execution_count": 5,
     "metadata": {},
     "output_type": "execute_result"
    }
   ],
   "source": [
    "bank_data.dtypes          # To get the datatypes"
   ]
  },
  {
   "cell_type": "code",
   "execution_count": 6,
   "id": "5a9f3ba8",
   "metadata": {},
   "outputs": [
    {
     "name": "stdout",
     "output_type": "stream",
     "text": [
      "<class 'pandas.core.frame.DataFrame'>\n",
      "RangeIndex: 45211 entries, 0 to 45210\n",
      "Data columns (total 17 columns):\n",
      " #   Column     Non-Null Count  Dtype \n",
      "---  ------     --------------  ----- \n",
      " 0   age        45211 non-null  int64 \n",
      " 1   job        45211 non-null  object\n",
      " 2   marital    45211 non-null  object\n",
      " 3   education  45211 non-null  object\n",
      " 4   default    45211 non-null  object\n",
      " 5   balance    45211 non-null  int64 \n",
      " 6   housing    45211 non-null  object\n",
      " 7   loan       45211 non-null  object\n",
      " 8   contact    45211 non-null  object\n",
      " 9   day        45211 non-null  int64 \n",
      " 10  month      45211 non-null  object\n",
      " 11  duration   45211 non-null  int64 \n",
      " 12  campaign   45211 non-null  int64 \n",
      " 13  pdays      45211 non-null  int64 \n",
      " 14  previous   45211 non-null  int64 \n",
      " 15  poutcome   45211 non-null  object\n",
      " 16  y          45211 non-null  object\n",
      "dtypes: int64(7), object(10)\n",
      "memory usage: 5.9+ MB\n"
     ]
    }
   ],
   "source": [
    "bank_data.info()"
   ]
  },
  {
   "cell_type": "code",
   "execution_count": 7,
   "id": "b8815da6",
   "metadata": {
    "scrolled": true
   },
   "outputs": [
    {
     "data": {
      "text/html": [
       "<div>\n",
       "<style scoped>\n",
       "    .dataframe tbody tr th:only-of-type {\n",
       "        vertical-align: middle;\n",
       "    }\n",
       "\n",
       "    .dataframe tbody tr th {\n",
       "        vertical-align: top;\n",
       "    }\n",
       "\n",
       "    .dataframe thead th {\n",
       "        text-align: right;\n",
       "    }\n",
       "</style>\n",
       "<table border=\"1\" class=\"dataframe\">\n",
       "  <thead>\n",
       "    <tr style=\"text-align: right;\">\n",
       "      <th></th>\n",
       "      <th>age</th>\n",
       "      <th>balance</th>\n",
       "      <th>day</th>\n",
       "      <th>duration</th>\n",
       "      <th>campaign</th>\n",
       "      <th>pdays</th>\n",
       "      <th>previous</th>\n",
       "    </tr>\n",
       "  </thead>\n",
       "  <tbody>\n",
       "    <tr>\n",
       "      <th>count</th>\n",
       "      <td>45211.000000</td>\n",
       "      <td>45211.000000</td>\n",
       "      <td>45211.000000</td>\n",
       "      <td>45211.000000</td>\n",
       "      <td>45211.000000</td>\n",
       "      <td>45211.000000</td>\n",
       "      <td>45211.000000</td>\n",
       "    </tr>\n",
       "    <tr>\n",
       "      <th>mean</th>\n",
       "      <td>40.936210</td>\n",
       "      <td>1362.272058</td>\n",
       "      <td>15.806419</td>\n",
       "      <td>258.163080</td>\n",
       "      <td>2.763841</td>\n",
       "      <td>40.197828</td>\n",
       "      <td>0.580323</td>\n",
       "    </tr>\n",
       "    <tr>\n",
       "      <th>std</th>\n",
       "      <td>10.618762</td>\n",
       "      <td>3044.765829</td>\n",
       "      <td>8.322476</td>\n",
       "      <td>257.527812</td>\n",
       "      <td>3.098021</td>\n",
       "      <td>100.128746</td>\n",
       "      <td>2.303441</td>\n",
       "    </tr>\n",
       "    <tr>\n",
       "      <th>min</th>\n",
       "      <td>18.000000</td>\n",
       "      <td>-8019.000000</td>\n",
       "      <td>1.000000</td>\n",
       "      <td>0.000000</td>\n",
       "      <td>1.000000</td>\n",
       "      <td>-1.000000</td>\n",
       "      <td>0.000000</td>\n",
       "    </tr>\n",
       "    <tr>\n",
       "      <th>25%</th>\n",
       "      <td>33.000000</td>\n",
       "      <td>72.000000</td>\n",
       "      <td>8.000000</td>\n",
       "      <td>103.000000</td>\n",
       "      <td>1.000000</td>\n",
       "      <td>-1.000000</td>\n",
       "      <td>0.000000</td>\n",
       "    </tr>\n",
       "    <tr>\n",
       "      <th>50%</th>\n",
       "      <td>39.000000</td>\n",
       "      <td>448.000000</td>\n",
       "      <td>16.000000</td>\n",
       "      <td>180.000000</td>\n",
       "      <td>2.000000</td>\n",
       "      <td>-1.000000</td>\n",
       "      <td>0.000000</td>\n",
       "    </tr>\n",
       "    <tr>\n",
       "      <th>75%</th>\n",
       "      <td>48.000000</td>\n",
       "      <td>1428.000000</td>\n",
       "      <td>21.000000</td>\n",
       "      <td>319.000000</td>\n",
       "      <td>3.000000</td>\n",
       "      <td>-1.000000</td>\n",
       "      <td>0.000000</td>\n",
       "    </tr>\n",
       "    <tr>\n",
       "      <th>max</th>\n",
       "      <td>95.000000</td>\n",
       "      <td>102127.000000</td>\n",
       "      <td>31.000000</td>\n",
       "      <td>4918.000000</td>\n",
       "      <td>63.000000</td>\n",
       "      <td>871.000000</td>\n",
       "      <td>275.000000</td>\n",
       "    </tr>\n",
       "  </tbody>\n",
       "</table>\n",
       "</div>"
      ],
      "text/plain": [
       "                age        balance           day      duration      campaign  \\\n",
       "count  45211.000000   45211.000000  45211.000000  45211.000000  45211.000000   \n",
       "mean      40.936210    1362.272058     15.806419    258.163080      2.763841   \n",
       "std       10.618762    3044.765829      8.322476    257.527812      3.098021   \n",
       "min       18.000000   -8019.000000      1.000000      0.000000      1.000000   \n",
       "25%       33.000000      72.000000      8.000000    103.000000      1.000000   \n",
       "50%       39.000000     448.000000     16.000000    180.000000      2.000000   \n",
       "75%       48.000000    1428.000000     21.000000    319.000000      3.000000   \n",
       "max       95.000000  102127.000000     31.000000   4918.000000     63.000000   \n",
       "\n",
       "              pdays      previous  \n",
       "count  45211.000000  45211.000000  \n",
       "mean      40.197828      0.580323  \n",
       "std      100.128746      2.303441  \n",
       "min       -1.000000      0.000000  \n",
       "25%       -1.000000      0.000000  \n",
       "50%       -1.000000      0.000000  \n",
       "75%       -1.000000      0.000000  \n",
       "max      871.000000    275.000000  "
      ]
     },
     "execution_count": 7,
     "metadata": {},
     "output_type": "execute_result"
    }
   ],
   "source": [
    "bank_data.describe()"
   ]
  },
  {
   "cell_type": "code",
   "execution_count": 8,
   "id": "ea828e31",
   "metadata": {},
   "outputs": [
    {
     "data": {
      "text/plain": [
       "Index(['age', 'job', 'marital', 'education', 'default', 'balance', 'housing',\n",
       "       'loan', 'contact', 'day', 'month', 'duration', 'campaign', 'pdays',\n",
       "       'previous', 'poutcome', 'y'],\n",
       "      dtype='object')"
      ]
     },
     "execution_count": 8,
     "metadata": {},
     "output_type": "execute_result"
    }
   ],
   "source": [
    "bank_data.columns           # For understanding the input parameters of the given dataset"
   ]
  },
  {
   "cell_type": "code",
   "execution_count": 9,
   "id": "5520fdbc",
   "metadata": {},
   "outputs": [
    {
     "data": {
      "text/html": [
       "<div>\n",
       "<style scoped>\n",
       "    .dataframe tbody tr th:only-of-type {\n",
       "        vertical-align: middle;\n",
       "    }\n",
       "\n",
       "    .dataframe tbody tr th {\n",
       "        vertical-align: top;\n",
       "    }\n",
       "\n",
       "    .dataframe thead th {\n",
       "        text-align: right;\n",
       "    }\n",
       "</style>\n",
       "<table border=\"1\" class=\"dataframe\">\n",
       "  <thead>\n",
       "    <tr style=\"text-align: right;\">\n",
       "      <th></th>\n",
       "      <th>age</th>\n",
       "      <th>job</th>\n",
       "      <th>marital</th>\n",
       "      <th>education</th>\n",
       "      <th>default</th>\n",
       "      <th>balance</th>\n",
       "      <th>housing</th>\n",
       "      <th>loan</th>\n",
       "      <th>contact</th>\n",
       "      <th>day</th>\n",
       "      <th>month</th>\n",
       "      <th>duration</th>\n",
       "      <th>campaign</th>\n",
       "      <th>pdays</th>\n",
       "      <th>previous</th>\n",
       "      <th>poutcome</th>\n",
       "      <th>y</th>\n",
       "    </tr>\n",
       "  </thead>\n",
       "  <tbody>\n",
       "    <tr>\n",
       "      <th>0</th>\n",
       "      <td>58</td>\n",
       "      <td>management</td>\n",
       "      <td>married</td>\n",
       "      <td>tertiary</td>\n",
       "      <td>no</td>\n",
       "      <td>2143</td>\n",
       "      <td>yes</td>\n",
       "      <td>no</td>\n",
       "      <td>unknown</td>\n",
       "      <td>5</td>\n",
       "      <td>may</td>\n",
       "      <td>261</td>\n",
       "      <td>1</td>\n",
       "      <td>-1</td>\n",
       "      <td>0</td>\n",
       "      <td>0</td>\n",
       "      <td>no</td>\n",
       "    </tr>\n",
       "    <tr>\n",
       "      <th>1</th>\n",
       "      <td>44</td>\n",
       "      <td>technician</td>\n",
       "      <td>single</td>\n",
       "      <td>secondary</td>\n",
       "      <td>no</td>\n",
       "      <td>29</td>\n",
       "      <td>yes</td>\n",
       "      <td>no</td>\n",
       "      <td>unknown</td>\n",
       "      <td>5</td>\n",
       "      <td>may</td>\n",
       "      <td>151</td>\n",
       "      <td>1</td>\n",
       "      <td>-1</td>\n",
       "      <td>0</td>\n",
       "      <td>0</td>\n",
       "      <td>no</td>\n",
       "    </tr>\n",
       "    <tr>\n",
       "      <th>2</th>\n",
       "      <td>33</td>\n",
       "      <td>entrepreneur</td>\n",
       "      <td>married</td>\n",
       "      <td>secondary</td>\n",
       "      <td>no</td>\n",
       "      <td>2</td>\n",
       "      <td>yes</td>\n",
       "      <td>yes</td>\n",
       "      <td>unknown</td>\n",
       "      <td>5</td>\n",
       "      <td>may</td>\n",
       "      <td>76</td>\n",
       "      <td>1</td>\n",
       "      <td>-1</td>\n",
       "      <td>0</td>\n",
       "      <td>0</td>\n",
       "      <td>no</td>\n",
       "    </tr>\n",
       "    <tr>\n",
       "      <th>3</th>\n",
       "      <td>47</td>\n",
       "      <td>blue-collar</td>\n",
       "      <td>married</td>\n",
       "      <td>unknown</td>\n",
       "      <td>no</td>\n",
       "      <td>1506</td>\n",
       "      <td>yes</td>\n",
       "      <td>no</td>\n",
       "      <td>unknown</td>\n",
       "      <td>5</td>\n",
       "      <td>may</td>\n",
       "      <td>92</td>\n",
       "      <td>1</td>\n",
       "      <td>-1</td>\n",
       "      <td>0</td>\n",
       "      <td>0</td>\n",
       "      <td>no</td>\n",
       "    </tr>\n",
       "    <tr>\n",
       "      <th>4</th>\n",
       "      <td>33</td>\n",
       "      <td>unknown</td>\n",
       "      <td>single</td>\n",
       "      <td>unknown</td>\n",
       "      <td>no</td>\n",
       "      <td>1</td>\n",
       "      <td>no</td>\n",
       "      <td>no</td>\n",
       "      <td>unknown</td>\n",
       "      <td>5</td>\n",
       "      <td>may</td>\n",
       "      <td>198</td>\n",
       "      <td>1</td>\n",
       "      <td>-1</td>\n",
       "      <td>0</td>\n",
       "      <td>0</td>\n",
       "      <td>no</td>\n",
       "    </tr>\n",
       "  </tbody>\n",
       "</table>\n",
       "</div>"
      ],
      "text/plain": [
       "   age           job  marital  education default  balance housing loan  \\\n",
       "0   58    management  married   tertiary      no     2143     yes   no   \n",
       "1   44    technician   single  secondary      no       29     yes   no   \n",
       "2   33  entrepreneur  married  secondary      no        2     yes  yes   \n",
       "3   47   blue-collar  married    unknown      no     1506     yes   no   \n",
       "4   33       unknown   single    unknown      no        1      no   no   \n",
       "\n",
       "   contact  day month  duration  campaign  pdays  previous  poutcome   y  \n",
       "0  unknown    5   may       261         1     -1         0         0  no  \n",
       "1  unknown    5   may       151         1     -1         0         0  no  \n",
       "2  unknown    5   may        76         1     -1         0         0  no  \n",
       "3  unknown    5   may        92         1     -1         0         0  no  \n",
       "4  unknown    5   may       198         1     -1         0         0  no  "
      ]
     },
     "execution_count": 9,
     "metadata": {},
     "output_type": "execute_result"
    }
   ],
   "source": [
    "bank_data['poutcome'] = bank_data.y.map({'no':0, 'yes':1})   \n",
    "bank_data.head()                                      "
   ]
  },
  {
   "cell_type": "markdown",
   "id": "f76c4149",
   "metadata": {},
   "source": [
    "**Used map() to execute a specified function like '0' or '1' instead of 'unknown' for \"poutcome\" on the basis of \"y\"**"
   ]
  },
  {
   "cell_type": "markdown",
   "id": "c16047f5",
   "metadata": {},
   "source": [
    "## 4. Data Visualization & Feature Selection"
   ]
  },
  {
   "cell_type": "code",
   "execution_count": 10,
   "id": "cfaa06d8",
   "metadata": {
    "scrolled": false
   },
   "outputs": [
    {
     "data": {
      "image/png": "[encoded data removed]",
      "text/plain": [
       "<Figure size 720x360 with 1 Axes>"
      ]
     },
     "metadata": {
      "needs_background": "light"
     },
     "output_type": "display_data"
    }
   ],
   "source": [
    "bank_data.boxplot(column='age', by='poutcome', grid= False, figsize= (10,5))      # Age vs poutcome\n",
    "plt.show()"
   ]
  },
  {
   "cell_type": "markdown",
   "id": "81ba24cb",
   "metadata": {},
   "source": [
    "**Many Outliers can be seen, so \"Age\" cannot be considered as a good feature against \"poutcome\".**"
   ]
  },
  {
   "cell_type": "code",
   "execution_count": 11,
   "id": "7a4c330a",
   "metadata": {
    "scrolled": true
   },
   "outputs": [
    {
     "data": {
      "text/plain": [
       "job\n",
       "admin.           0.122027\n",
       "blue-collar      0.072750\n",
       "entrepreneur     0.082717\n",
       "housemaid        0.087903\n",
       "management       0.137556\n",
       "retired          0.227915\n",
       "self-employed    0.118429\n",
       "services         0.088830\n",
       "student          0.286780\n",
       "technician       0.110570\n",
       "unemployed       0.155027\n",
       "unknown          0.118056\n",
       "Name: poutcome, dtype: float64"
      ]
     },
     "execution_count": 11,
     "metadata": {},
     "output_type": "execute_result"
    }
   ],
   "source": [
    "bank_data.groupby('job').poutcome.mean()"
   ]
  },
  {
   "cell_type": "markdown",
   "id": "9a49740e",
   "metadata": {},
   "source": [
    "**We can conclude that all the datapoints will lie closer to each other and there will be no outlier in such case so we can consider all of them as good features against poutcome.**"
   ]
  },
  {
   "cell_type": "markdown",
   "id": "c8153497",
   "metadata": {},
   "source": [
    "##### Creating dummy variables for categorical feature - Job"
   ]
  },
  {
   "cell_type": "code",
   "execution_count": 12,
   "id": "199a3a33",
   "metadata": {},
   "outputs": [],
   "source": [
    "job_dummies = pd.get_dummies(bank_data.job, prefix='job')\n",
    "job_dummies.drop(job_dummies.columns[0], axis=1, inplace=True)"
   ]
  },
  {
   "cell_type": "code",
   "execution_count": 13,
   "id": "30f58572",
   "metadata": {},
   "outputs": [
    {
     "data": {
      "text/plain": [
       "default\n",
       "no     0.117961\n",
       "yes    0.063804\n",
       "Name: poutcome, dtype: float64"
      ]
     },
     "execution_count": 13,
     "metadata": {},
     "output_type": "execute_result"
    }
   ],
   "source": [
    "bank_data.groupby('default').poutcome.mean()    # Default is a useful feature"
   ]
  },
  {
   "cell_type": "code",
   "execution_count": 14,
   "id": "004a5baf",
   "metadata": {},
   "outputs": [],
   "source": [
    "bank_data['default'] = bank_data.default.map({'no':0, 'unknown':1, 'yes':1})   # Converted Default to numeric form"
   ]
  },
  {
   "cell_type": "markdown",
   "id": "93531d64",
   "metadata": {},
   "source": [
    "**Used map() to execute a specified function like '0' or '1' instead of 'unknown' for \"default\"**"
   ]
  },
  {
   "cell_type": "code",
   "execution_count": 15,
   "id": "e7921762",
   "metadata": {},
   "outputs": [],
   "source": [
    "bank_data['contact'] = bank_data.contact.map({'cellular':0, 'telephone':1})    # Converted Contact to numeric form"
   ]
  },
  {
   "cell_type": "markdown",
   "id": "5472e7df",
   "metadata": {},
   "source": [
    "**Used map() to execute a specified function like '0' or '1' instead of 'unknown' for \"contact\"**"
   ]
  },
  {
   "cell_type": "code",
   "execution_count": 16,
   "id": "28bdcab3",
   "metadata": {},
   "outputs": [],
   "source": [
    "bank_data['y'] = bank_data.y.map({'no':0, 'yes':1})    # Converted y to numeric form"
   ]
  },
  {
   "cell_type": "markdown",
   "id": "658b6c9c",
   "metadata": {},
   "source": [
    "**Used map() to execute a specified function like '0' or '1' instead of 'yes' or 'no' for \"y\"**"
   ]
  },
  {
   "cell_type": "code",
   "execution_count": 17,
   "id": "6e68dd7d",
   "metadata": {},
   "outputs": [
    {
     "data": {
      "text/plain": [
       "month\n",
       "apr    0.196794\n",
       "aug    0.110133\n",
       "dec    0.467290\n",
       "feb    0.166478\n",
       "jan    0.101212\n",
       "jul    0.090935\n",
       "jun    0.102228\n",
       "mar    0.519916\n",
       "may    0.067195\n",
       "nov    0.101511\n",
       "oct    0.437669\n",
       "sep    0.464594\n",
       "Name: poutcome, dtype: float64"
      ]
     },
     "execution_count": 17,
     "metadata": {},
     "output_type": "execute_result"
    }
   ],
   "source": [
    "bank_data.groupby('month').poutcome.mean()        # Month is also a useful feature"
   ]
  },
  {
   "cell_type": "code",
   "execution_count": 18,
   "id": "e61a6dad",
   "metadata": {},
   "outputs": [
    {
     "data": {
      "text/html": [
       "<div>\n",
       "<style scoped>\n",
       "    .dataframe tbody tr th:only-of-type {\n",
       "        vertical-align: middle;\n",
       "    }\n",
       "\n",
       "    .dataframe tbody tr th {\n",
       "        vertical-align: top;\n",
       "    }\n",
       "\n",
       "    .dataframe thead th {\n",
       "        text-align: right;\n",
       "    }\n",
       "</style>\n",
       "<table border=\"1\" class=\"dataframe\">\n",
       "  <thead>\n",
       "    <tr style=\"text-align: right;\">\n",
       "      <th></th>\n",
       "      <th>count</th>\n",
       "      <th>mean</th>\n",
       "    </tr>\n",
       "    <tr>\n",
       "      <th>month</th>\n",
       "      <th></th>\n",
       "      <th></th>\n",
       "    </tr>\n",
       "  </thead>\n",
       "  <tbody>\n",
       "    <tr>\n",
       "      <th>dec</th>\n",
       "      <td>214</td>\n",
       "      <td>0.467290</td>\n",
       "    </tr>\n",
       "    <tr>\n",
       "      <th>mar</th>\n",
       "      <td>477</td>\n",
       "      <td>0.519916</td>\n",
       "    </tr>\n",
       "    <tr>\n",
       "      <th>sep</th>\n",
       "      <td>579</td>\n",
       "      <td>0.464594</td>\n",
       "    </tr>\n",
       "    <tr>\n",
       "      <th>oct</th>\n",
       "      <td>738</td>\n",
       "      <td>0.437669</td>\n",
       "    </tr>\n",
       "    <tr>\n",
       "      <th>jan</th>\n",
       "      <td>1403</td>\n",
       "      <td>0.101212</td>\n",
       "    </tr>\n",
       "    <tr>\n",
       "      <th>feb</th>\n",
       "      <td>2649</td>\n",
       "      <td>0.166478</td>\n",
       "    </tr>\n",
       "    <tr>\n",
       "      <th>apr</th>\n",
       "      <td>2932</td>\n",
       "      <td>0.196794</td>\n",
       "    </tr>\n",
       "    <tr>\n",
       "      <th>nov</th>\n",
       "      <td>3970</td>\n",
       "      <td>0.101511</td>\n",
       "    </tr>\n",
       "    <tr>\n",
       "      <th>jun</th>\n",
       "      <td>5341</td>\n",
       "      <td>0.102228</td>\n",
       "    </tr>\n",
       "    <tr>\n",
       "      <th>aug</th>\n",
       "      <td>6247</td>\n",
       "      <td>0.110133</td>\n",
       "    </tr>\n",
       "    <tr>\n",
       "      <th>jul</th>\n",
       "      <td>6895</td>\n",
       "      <td>0.090935</td>\n",
       "    </tr>\n",
       "    <tr>\n",
       "      <th>may</th>\n",
       "      <td>13766</td>\n",
       "      <td>0.067195</td>\n",
       "    </tr>\n",
       "  </tbody>\n",
       "</table>\n",
       "</div>"
      ],
      "text/plain": [
       "       count      mean\n",
       "month                 \n",
       "dec      214  0.467290\n",
       "mar      477  0.519916\n",
       "sep      579  0.464594\n",
       "oct      738  0.437669\n",
       "jan     1403  0.101212\n",
       "feb     2649  0.166478\n",
       "apr     2932  0.196794\n",
       "nov     3970  0.101511\n",
       "jun     5341  0.102228\n",
       "aug     6247  0.110133\n",
       "jul     6895  0.090935\n",
       "may    13766  0.067195"
      ]
     },
     "execution_count": 18,
     "metadata": {},
     "output_type": "execute_result"
    }
   ],
   "source": [
    "bank_data.groupby('month').poutcome.agg(['count', 'mean']).sort_values('count')  "
   ]
  },
  {
   "cell_type": "markdown",
   "id": "66f37291",
   "metadata": {},
   "source": [
    "*By looking at the number of calls per month we conclude that Month vs Outcome is a doubtful parameter.* "
   ]
  },
  {
   "cell_type": "code",
   "execution_count": 19,
   "id": "6258b851",
   "metadata": {},
   "outputs": [
    {
     "data": {
      "image/png": "[encoded data removed]",
      "text/plain": [
       "<Figure size 720x360 with 1 Axes>"
      ]
     },
     "metadata": {
      "needs_background": "light"
     },
     "output_type": "display_data"
    }
   ],
   "source": [
    "bank_data.boxplot(column='duration', by='poutcome', grid= False, figsize= (10,5))       # Duration vs poutcome\n",
    "plt.show()"
   ]
  },
  {
   "cell_type": "markdown",
   "id": "a09efcad",
   "metadata": {},
   "source": [
    " **Many Outliers can be seen in Duration vs Outcome plot so we cannot consider 'Duration' as a useful feature.**"
   ]
  },
  {
   "cell_type": "code",
   "execution_count": 20,
   "id": "7728a250",
   "metadata": {},
   "outputs": [
    {
     "data": {
      "text/plain": [
       "previous\n",
       "0      0.091573\n",
       "1      0.210317\n",
       "2      0.216524\n",
       "3      0.257443\n",
       "4      0.239496\n",
       "5      0.263617\n",
       "6      0.299639\n",
       "7      0.263415\n",
       "8      0.302326\n",
       "9      0.260870\n",
       "10     0.388060\n",
       "11     0.230769\n",
       "12     0.227273\n",
       "13     0.236842\n",
       "14     0.263158\n",
       "15     0.050000\n",
       "16     0.000000\n",
       "17     0.200000\n",
       "18     0.000000\n",
       "19     0.181818\n",
       "20     0.125000\n",
       "21     0.250000\n",
       "22     0.166667\n",
       "23     0.125000\n",
       "24     0.000000\n",
       "25     0.000000\n",
       "26     0.500000\n",
       "27     0.000000\n",
       "28     0.000000\n",
       "29     0.250000\n",
       "30     0.333333\n",
       "32     0.000000\n",
       "35     0.000000\n",
       "37     0.000000\n",
       "38     0.000000\n",
       "40     0.000000\n",
       "41     0.000000\n",
       "51     0.000000\n",
       "55     1.000000\n",
       "58     1.000000\n",
       "275    0.000000\n",
       "Name: poutcome, dtype: float64"
      ]
     },
     "execution_count": 20,
     "metadata": {},
     "output_type": "execute_result"
    }
   ],
   "source": [
    "bank_data.groupby('previous').poutcome.mean()      # Previous can be considered as a useful parameter"
   ]
  },
  {
   "cell_type": "code",
   "execution_count": 21,
   "id": "0755a339",
   "metadata": {},
   "outputs": [
    {
     "data": {
      "text/plain": [
       "poutcome\n",
       "0    0\n",
       "1    1\n",
       "Name: poutcome, dtype: int64"
      ]
     },
     "execution_count": 21,
     "metadata": {},
     "output_type": "execute_result"
    }
   ],
   "source": [
    "bank_data.groupby('poutcome').poutcome.mean() "
   ]
  },
  {
   "cell_type": "code",
   "execution_count": 22,
   "id": "65e8e2ad",
   "metadata": {},
   "outputs": [],
   "source": [
    "poutcome_dummies = pd.get_dummies(bank_data.poutcome, prefix='poutcome')\n",
    "poutcome_dummies.drop(poutcome_dummies.columns[0], axis=1, inplace=True)"
   ]
  },
  {
   "cell_type": "code",
   "execution_count": 23,
   "id": "eec24aa4",
   "metadata": {},
   "outputs": [],
   "source": [
    "bank = pd.concat([bank_data, job_dummies, poutcome_dummies], axis=1)"
   ]
  },
  {
   "cell_type": "markdown",
   "id": "5a09215a",
   "metadata": {},
   "source": [
    "## 5. Model Building "
   ]
  },
  {
   "cell_type": "code",
   "execution_count": 24,
   "id": "bdefc384",
   "metadata": {},
   "outputs": [],
   "source": [
    "feature_cols = ['default', 'contact', 'previous'] + list(bank.columns[-13:])\n",
    "X = bank[feature_cols]"
   ]
  },
  {
   "cell_type": "code",
   "execution_count": 25,
   "id": "313c5777",
   "metadata": {},
   "outputs": [
    {
     "data": {
      "text/plain": [
       "default                  0\n",
       "contact              13020\n",
       "previous                 0\n",
       "y                        0\n",
       "job_blue-collar          0\n",
       "job_entrepreneur         0\n",
       "job_housemaid            0\n",
       "job_management           0\n",
       "job_retired              0\n",
       "job_self-employed        0\n",
       "job_services             0\n",
       "job_student              0\n",
       "job_technician           0\n",
       "job_unemployed           0\n",
       "job_unknown              0\n",
       "poutcome_1               0\n",
       "dtype: int64"
      ]
     },
     "execution_count": 25,
     "metadata": {},
     "output_type": "execute_result"
    }
   ],
   "source": [
    "X.isna().sum()"
   ]
  },
  {
   "cell_type": "code",
   "execution_count": 26,
   "id": "85ba7fc7",
   "metadata": {},
   "outputs": [],
   "source": [
    "X = X.fillna('0')          # Because contact had null values  "
   ]
  },
  {
   "cell_type": "code",
   "execution_count": 27,
   "id": "9dc3e443",
   "metadata": {},
   "outputs": [],
   "source": [
    "y = bank.poutcome"
   ]
  },
  {
   "cell_type": "code",
   "execution_count": 28,
   "id": "aee13e2c",
   "metadata": {},
   "outputs": [
    {
     "data": {
      "text/html": [
       "<div>\n",
       "<style scoped>\n",
       "    .dataframe tbody tr th:only-of-type {\n",
       "        vertical-align: middle;\n",
       "    }\n",
       "\n",
       "    .dataframe tbody tr th {\n",
       "        vertical-align: top;\n",
       "    }\n",
       "\n",
       "    .dataframe thead th {\n",
       "        text-align: right;\n",
       "    }\n",
       "</style>\n",
       "<table border=\"1\" class=\"dataframe\">\n",
       "  <thead>\n",
       "    <tr style=\"text-align: right;\">\n",
       "      <th></th>\n",
       "      <th>default</th>\n",
       "      <th>contact</th>\n",
       "      <th>previous</th>\n",
       "      <th>y</th>\n",
       "      <th>job_blue-collar</th>\n",
       "      <th>job_entrepreneur</th>\n",
       "      <th>job_housemaid</th>\n",
       "      <th>job_management</th>\n",
       "      <th>job_retired</th>\n",
       "      <th>job_self-employed</th>\n",
       "      <th>job_services</th>\n",
       "      <th>job_student</th>\n",
       "      <th>job_technician</th>\n",
       "      <th>job_unemployed</th>\n",
       "      <th>job_unknown</th>\n",
       "      <th>poutcome_1</th>\n",
       "    </tr>\n",
       "  </thead>\n",
       "  <tbody>\n",
       "    <tr>\n",
       "      <th>0</th>\n",
       "      <td>0</td>\n",
       "      <td>0</td>\n",
       "      <td>0</td>\n",
       "      <td>0</td>\n",
       "      <td>0</td>\n",
       "      <td>0</td>\n",
       "      <td>0</td>\n",
       "      <td>1</td>\n",
       "      <td>0</td>\n",
       "      <td>0</td>\n",
       "      <td>0</td>\n",
       "      <td>0</td>\n",
       "      <td>0</td>\n",
       "      <td>0</td>\n",
       "      <td>0</td>\n",
       "      <td>0</td>\n",
       "    </tr>\n",
       "    <tr>\n",
       "      <th>1</th>\n",
       "      <td>0</td>\n",
       "      <td>0</td>\n",
       "      <td>0</td>\n",
       "      <td>0</td>\n",
       "      <td>0</td>\n",
       "      <td>0</td>\n",
       "      <td>0</td>\n",
       "      <td>0</td>\n",
       "      <td>0</td>\n",
       "      <td>0</td>\n",
       "      <td>0</td>\n",
       "      <td>0</td>\n",
       "      <td>1</td>\n",
       "      <td>0</td>\n",
       "      <td>0</td>\n",
       "      <td>0</td>\n",
       "    </tr>\n",
       "    <tr>\n",
       "      <th>2</th>\n",
       "      <td>0</td>\n",
       "      <td>0</td>\n",
       "      <td>0</td>\n",
       "      <td>0</td>\n",
       "      <td>0</td>\n",
       "      <td>1</td>\n",
       "      <td>0</td>\n",
       "      <td>0</td>\n",
       "      <td>0</td>\n",
       "      <td>0</td>\n",
       "      <td>0</td>\n",
       "      <td>0</td>\n",
       "      <td>0</td>\n",
       "      <td>0</td>\n",
       "      <td>0</td>\n",
       "      <td>0</td>\n",
       "    </tr>\n",
       "    <tr>\n",
       "      <th>3</th>\n",
       "      <td>0</td>\n",
       "      <td>0</td>\n",
       "      <td>0</td>\n",
       "      <td>0</td>\n",
       "      <td>1</td>\n",
       "      <td>0</td>\n",
       "      <td>0</td>\n",
       "      <td>0</td>\n",
       "      <td>0</td>\n",
       "      <td>0</td>\n",
       "      <td>0</td>\n",
       "      <td>0</td>\n",
       "      <td>0</td>\n",
       "      <td>0</td>\n",
       "      <td>0</td>\n",
       "      <td>0</td>\n",
       "    </tr>\n",
       "    <tr>\n",
       "      <th>4</th>\n",
       "      <td>0</td>\n",
       "      <td>0</td>\n",
       "      <td>0</td>\n",
       "      <td>0</td>\n",
       "      <td>0</td>\n",
       "      <td>0</td>\n",
       "      <td>0</td>\n",
       "      <td>0</td>\n",
       "      <td>0</td>\n",
       "      <td>0</td>\n",
       "      <td>0</td>\n",
       "      <td>0</td>\n",
       "      <td>0</td>\n",
       "      <td>0</td>\n",
       "      <td>1</td>\n",
       "      <td>0</td>\n",
       "    </tr>\n",
       "  </tbody>\n",
       "</table>\n",
       "</div>"
      ],
      "text/plain": [
       "   default contact  previous  y  job_blue-collar  job_entrepreneur  \\\n",
       "0        0       0         0  0                0                 0   \n",
       "1        0       0         0  0                0                 0   \n",
       "2        0       0         0  0                0                 1   \n",
       "3        0       0         0  0                1                 0   \n",
       "4        0       0         0  0                0                 0   \n",
       "\n",
       "   job_housemaid  job_management  job_retired  job_self-employed  \\\n",
       "0              0               1            0                  0   \n",
       "1              0               0            0                  0   \n",
       "2              0               0            0                  0   \n",
       "3              0               0            0                  0   \n",
       "4              0               0            0                  0   \n",
       "\n",
       "   job_services  job_student  job_technician  job_unemployed  job_unknown  \\\n",
       "0             0            0               0               0            0   \n",
       "1             0            0               1               0            0   \n",
       "2             0            0               0               0            0   \n",
       "3             0            0               0               0            0   \n",
       "4             0            0               0               0            1   \n",
       "\n",
       "   poutcome_1  \n",
       "0           0  \n",
       "1           0  \n",
       "2           0  \n",
       "3           0  \n",
       "4           0  "
      ]
     },
     "execution_count": 28,
     "metadata": {},
     "output_type": "execute_result"
    }
   ],
   "source": [
    "X.head()"
   ]
  },
  {
   "cell_type": "code",
   "execution_count": 29,
   "id": "f455a91c",
   "metadata": {
    "scrolled": true
   },
   "outputs": [
    {
     "data": {
      "text/html": [
       "<div>\n",
       "<style scoped>\n",
       "    .dataframe tbody tr th:only-of-type {\n",
       "        vertical-align: middle;\n",
       "    }\n",
       "\n",
       "    .dataframe tbody tr th {\n",
       "        vertical-align: top;\n",
       "    }\n",
       "\n",
       "    .dataframe thead th {\n",
       "        text-align: right;\n",
       "    }\n",
       "</style>\n",
       "<table border=\"1\" class=\"dataframe\">\n",
       "  <thead>\n",
       "    <tr style=\"text-align: right;\">\n",
       "      <th></th>\n",
       "      <th>default</th>\n",
       "      <th>contact</th>\n",
       "      <th>previous</th>\n",
       "      <th>y</th>\n",
       "      <th>job_blue-collar</th>\n",
       "      <th>job_entrepreneur</th>\n",
       "      <th>job_housemaid</th>\n",
       "      <th>job_management</th>\n",
       "      <th>job_retired</th>\n",
       "      <th>job_self-employed</th>\n",
       "      <th>job_services</th>\n",
       "      <th>job_student</th>\n",
       "      <th>job_technician</th>\n",
       "      <th>job_unemployed</th>\n",
       "      <th>job_unknown</th>\n",
       "      <th>poutcome_1</th>\n",
       "    </tr>\n",
       "  </thead>\n",
       "  <tbody>\n",
       "    <tr>\n",
       "      <th>45206</th>\n",
       "      <td>0</td>\n",
       "      <td>0.0</td>\n",
       "      <td>0</td>\n",
       "      <td>1</td>\n",
       "      <td>0</td>\n",
       "      <td>0</td>\n",
       "      <td>0</td>\n",
       "      <td>0</td>\n",
       "      <td>0</td>\n",
       "      <td>0</td>\n",
       "      <td>0</td>\n",
       "      <td>0</td>\n",
       "      <td>1</td>\n",
       "      <td>0</td>\n",
       "      <td>0</td>\n",
       "      <td>1</td>\n",
       "    </tr>\n",
       "    <tr>\n",
       "      <th>45207</th>\n",
       "      <td>0</td>\n",
       "      <td>0.0</td>\n",
       "      <td>0</td>\n",
       "      <td>1</td>\n",
       "      <td>0</td>\n",
       "      <td>0</td>\n",
       "      <td>0</td>\n",
       "      <td>0</td>\n",
       "      <td>1</td>\n",
       "      <td>0</td>\n",
       "      <td>0</td>\n",
       "      <td>0</td>\n",
       "      <td>0</td>\n",
       "      <td>0</td>\n",
       "      <td>0</td>\n",
       "      <td>1</td>\n",
       "    </tr>\n",
       "    <tr>\n",
       "      <th>45208</th>\n",
       "      <td>0</td>\n",
       "      <td>0.0</td>\n",
       "      <td>3</td>\n",
       "      <td>1</td>\n",
       "      <td>0</td>\n",
       "      <td>0</td>\n",
       "      <td>0</td>\n",
       "      <td>0</td>\n",
       "      <td>1</td>\n",
       "      <td>0</td>\n",
       "      <td>0</td>\n",
       "      <td>0</td>\n",
       "      <td>0</td>\n",
       "      <td>0</td>\n",
       "      <td>0</td>\n",
       "      <td>1</td>\n",
       "    </tr>\n",
       "    <tr>\n",
       "      <th>45209</th>\n",
       "      <td>0</td>\n",
       "      <td>1.0</td>\n",
       "      <td>0</td>\n",
       "      <td>0</td>\n",
       "      <td>1</td>\n",
       "      <td>0</td>\n",
       "      <td>0</td>\n",
       "      <td>0</td>\n",
       "      <td>0</td>\n",
       "      <td>0</td>\n",
       "      <td>0</td>\n",
       "      <td>0</td>\n",
       "      <td>0</td>\n",
       "      <td>0</td>\n",
       "      <td>0</td>\n",
       "      <td>0</td>\n",
       "    </tr>\n",
       "    <tr>\n",
       "      <th>45210</th>\n",
       "      <td>0</td>\n",
       "      <td>0.0</td>\n",
       "      <td>11</td>\n",
       "      <td>0</td>\n",
       "      <td>0</td>\n",
       "      <td>1</td>\n",
       "      <td>0</td>\n",
       "      <td>0</td>\n",
       "      <td>0</td>\n",
       "      <td>0</td>\n",
       "      <td>0</td>\n",
       "      <td>0</td>\n",
       "      <td>0</td>\n",
       "      <td>0</td>\n",
       "      <td>0</td>\n",
       "      <td>0</td>\n",
       "    </tr>\n",
       "  </tbody>\n",
       "</table>\n",
       "</div>"
      ],
      "text/plain": [
       "       default contact  previous  y  job_blue-collar  job_entrepreneur  \\\n",
       "45206        0     0.0         0  1                0                 0   \n",
       "45207        0     0.0         0  1                0                 0   \n",
       "45208        0     0.0         3  1                0                 0   \n",
       "45209        0     1.0         0  0                1                 0   \n",
       "45210        0     0.0        11  0                0                 1   \n",
       "\n",
       "       job_housemaid  job_management  job_retired  job_self-employed  \\\n",
       "45206              0               0            0                  0   \n",
       "45207              0               0            1                  0   \n",
       "45208              0               0            1                  0   \n",
       "45209              0               0            0                  0   \n",
       "45210              0               0            0                  0   \n",
       "\n",
       "       job_services  job_student  job_technician  job_unemployed  job_unknown  \\\n",
       "45206             0            0               1               0            0   \n",
       "45207             0            0               0               0            0   \n",
       "45208             0            0               0               0            0   \n",
       "45209             0            0               0               0            0   \n",
       "45210             0            0               0               0            0   \n",
       "\n",
       "       poutcome_1  \n",
       "45206           1  \n",
       "45207           1  \n",
       "45208           1  \n",
       "45209           0  \n",
       "45210           0  "
      ]
     },
     "execution_count": 29,
     "metadata": {},
     "output_type": "execute_result"
    }
   ],
   "source": [
    "X.tail()"
   ]
  },
  {
   "cell_type": "markdown",
   "id": "83339761",
   "metadata": {},
   "source": [
    "**Conclusion:-**\n",
    "- The final poutcome_success  says, the outcome 1 from the above output says that the client has subscribed a term deposit and 0 says the client not subscribed the term deposit."
   ]
  },
  {
   "cell_type": "markdown",
   "id": "e2ced3aa",
   "metadata": {},
   "source": [
    "#### Train-test split"
   ]
  },
  {
   "cell_type": "code",
   "execution_count": 30,
   "id": "4d4e0a93",
   "metadata": {},
   "outputs": [],
   "source": [
    "from sklearn.model_selection import train_test_split\n",
    "X_train, X_test, y_train, y_test = train_test_split(X, y, test_size=0.20, random_state=12, stratify=y)"
   ]
  },
  {
   "cell_type": "markdown",
   "id": "e4a08d25",
   "metadata": {},
   "source": [
    "*Feature Scaling*"
   ]
  },
  {
   "cell_type": "code",
   "execution_count": 31,
   "id": "6d0daea1",
   "metadata": {},
   "outputs": [
    {
     "data": {
      "text/plain": [
       "array([[-0.13580851, -0.26162381, -0.24332546, ..., -0.17409749,\n",
       "        -0.08034875, -0.36397743],\n",
       "       [-0.13580851, -0.26162381,  0.17423932, ..., -0.17409749,\n",
       "        -0.08034875, -0.36397743],\n",
       "       [-0.13580851, -0.26162381, -0.24332546, ...,  5.74390818,\n",
       "        -0.08034875, -0.36397743],\n",
       "       ...,\n",
       "       [-0.13580851, -0.26162381, -0.24332546, ...,  5.74390818,\n",
       "        -0.08034875, -0.36397743],\n",
       "       [-0.13580851, -0.26162381, -0.24332546, ..., -0.17409749,\n",
       "        -0.08034875, -0.36397743],\n",
       "       [-0.13580851, -0.26162381, -0.24332546, ..., -0.17409749,\n",
       "        -0.08034875, -0.36397743]])"
      ]
     },
     "execution_count": 31,
     "metadata": {},
     "output_type": "execute_result"
    }
   ],
   "source": [
    "from sklearn.preprocessing import StandardScaler\n",
    "std_sc = StandardScaler()\n",
    "std_sc.fit_transform(X_train, y_train)"
   ]
  },
  {
   "cell_type": "code",
   "execution_count": 32,
   "id": "a285127a",
   "metadata": {},
   "outputs": [
    {
     "data": {
      "text/plain": [
       "array([[-0.13420854, -0.26395295, -0.30131002, ...,  6.0693344 ,\n",
       "        -0.0789381 , -0.36400334],\n",
       "       [-0.13420854,  3.78855393, -0.30131002, ..., -0.16476271,\n",
       "        -0.0789381 , -0.36400334],\n",
       "       [ 7.45109052, -0.26395295,  0.22663931, ..., -0.16476271,\n",
       "        -0.0789381 , -0.36400334],\n",
       "       ...,\n",
       "       [-0.13420854, -0.26395295,  7.6179299 , ..., -0.16476271,\n",
       "        -0.0789381 , -0.36400334],\n",
       "       [-0.13420854, -0.26395295, -0.30131002, ..., -0.16476271,\n",
       "        -0.0789381 , -0.36400334],\n",
       "       [-0.13420854, -0.26395295, -0.30131002, ..., -0.16476271,\n",
       "        -0.0789381 , -0.36400334]])"
      ]
     },
     "execution_count": 32,
     "metadata": {},
     "output_type": "execute_result"
    }
   ],
   "source": [
    "std_sc.fit_transform(X_test, y_test)"
   ]
  },
  {
   "cell_type": "markdown",
   "id": "00f989d7",
   "metadata": {},
   "source": [
    "## 6. Model Training"
   ]
  },
  {
   "cell_type": "code",
   "execution_count": 33,
   "id": "bc108ccd",
   "metadata": {},
   "outputs": [
    {
     "data": {
      "text/plain": [
       "LogisticRegression()"
      ]
     },
     "execution_count": 33,
     "metadata": {},
     "output_type": "execute_result"
    }
   ],
   "source": [
    "from sklearn.linear_model import LogisticRegression\n",
    "log_reg = LogisticRegression()\n",
    "log_reg.fit(X_train, y_train)"
   ]
  },
  {
   "cell_type": "markdown",
   "id": "f59b7e39",
   "metadata": {},
   "source": [
    "## 7. Model Testing"
   ]
  },
  {
   "cell_type": "markdown",
   "id": "14042dc6",
   "metadata": {},
   "source": [
    "***Train data***"
   ]
  },
  {
   "cell_type": "code",
   "execution_count": 34,
   "id": "71a8eb0e",
   "metadata": {},
   "outputs": [],
   "source": [
    "y_train_pred = log_reg.predict(X_train) "
   ]
  },
  {
   "cell_type": "markdown",
   "id": "c4fc0849",
   "metadata": {},
   "source": [
    "***Test data***"
   ]
  },
  {
   "cell_type": "code",
   "execution_count": 35,
   "id": "4dfa7df6",
   "metadata": {},
   "outputs": [],
   "source": [
    "y_test_pred = log_reg.predict(X_test)"
   ]
  },
  {
   "cell_type": "markdown",
   "id": "954b376f",
   "metadata": {},
   "source": [
    "## 8. Model Testing"
   ]
  },
  {
   "cell_type": "code",
   "execution_count": 36,
   "id": "a2ee6b4b",
   "metadata": {},
   "outputs": [],
   "source": [
    "from sklearn.metrics import accuracy_score,confusion_matrix,precision_score,recall_score,classification_report"
   ]
  },
  {
   "cell_type": "markdown",
   "id": "d219b251",
   "metadata": {},
   "source": [
    "##### Training data"
   ]
  },
  {
   "cell_type": "code",
   "execution_count": 37,
   "id": "f4e676af",
   "metadata": {
    "scrolled": false
   },
   "outputs": [
    {
     "name": "stdout",
     "output_type": "stream",
     "text": [
      "Accuracy score of train data :  1.0\n"
     ]
    }
   ],
   "source": [
    "print(\"Accuracy score of train data : \", accuracy_score(y_train, y_train_pred))"
   ]
  },
  {
   "cell_type": "code",
   "execution_count": 38,
   "id": "e64b4d97",
   "metadata": {
    "scrolled": false
   },
   "outputs": [
    {
     "data": {
      "text/plain": [
       "array([[31937,     0],\n",
       "       [    0,  4231]], dtype=int64)"
      ]
     },
     "execution_count": 38,
     "metadata": {},
     "output_type": "execute_result"
    }
   ],
   "source": [
    "confusion_matrix(y_train, y_train_pred)"
   ]
  },
  {
   "cell_type": "code",
   "execution_count": 39,
   "id": "541095ad",
   "metadata": {
    "scrolled": false
   },
   "outputs": [
    {
     "name": "stdout",
     "output_type": "stream",
     "text": [
      "Precision score of train data :  1.0\n"
     ]
    }
   ],
   "source": [
    "print(\"Precision score of train data : \", precision_score(y_train, y_train_pred))"
   ]
  },
  {
   "cell_type": "code",
   "execution_count": 40,
   "id": "e37da96f",
   "metadata": {
    "scrolled": true
   },
   "outputs": [
    {
     "name": "stdout",
     "output_type": "stream",
     "text": [
      "Recall score of train data :  1.0\n"
     ]
    }
   ],
   "source": [
    "print(\"Recall score of train data : \", recall_score(y_train, y_train_pred))"
   ]
  },
  {
   "cell_type": "code",
   "execution_count": 41,
   "id": "2d10d074",
   "metadata": {},
   "outputs": [
    {
     "name": "stdout",
     "output_type": "stream",
     "text": [
      "              precision    recall  f1-score   support\n",
      "\n",
      "           0       1.00      1.00      1.00     31937\n",
      "           1       1.00      1.00      1.00      4231\n",
      "\n",
      "    accuracy                           1.00     36168\n",
      "   macro avg       1.00      1.00      1.00     36168\n",
      "weighted avg       1.00      1.00      1.00     36168\n",
      "\n"
     ]
    }
   ],
   "source": [
    "print(classification_report(y_train,y_train_pred))"
   ]
  },
  {
   "cell_type": "code",
   "execution_count": 42,
   "id": "35193ab4",
   "metadata": {},
   "outputs": [
    {
     "name": "stdout",
     "output_type": "stream",
     "text": [
      "1.0\n"
     ]
    },
    {
     "data": {
      "text/plain": [
       "Text(0, 0.5, 'True Positive Rate')"
      ]
     },
     "execution_count": 42,
     "metadata": {},
     "output_type": "execute_result"
    },
    {
     "data": {
      "image/png": "[encoded data removed]",
      "text/plain": [
       "<Figure size 432x288 with 1 Axes>"
      ]
     },
     "metadata": {
      "needs_background": "light"
     },
     "output_type": "display_data"
    }
   ],
   "source": [
    "from sklearn.metrics import roc_curve,roc_auc_score          # Visualization of the results of Logistic Regression\n",
    "fpr, tpr, thresholds = roc_curve(y, log_reg.predict_proba (X)[:,1])\n",
    "\n",
    "auc = roc_auc_score(y_train,y_train_pred)\n",
    "print(auc)\n",
    "\n",
    "plt.plot(fpr, tpr, color='red', label='logit model ( area  = %0.2f)'%auc)\n",
    "plt.plot([0, 1], [0, 1], 'k--')\n",
    "plt.xlabel('False Positive Rate or [1 - True Negative Rate]')\n",
    "plt.ylabel('True Positive Rate')"
   ]
  },
  {
   "cell_type": "markdown",
   "id": "7c6f8129",
   "metadata": {},
   "source": [
    "##### Test data"
   ]
  },
  {
   "cell_type": "code",
   "execution_count": 43,
   "id": "ba5a0a89",
   "metadata": {
    "scrolled": true
   },
   "outputs": [
    {
     "name": "stdout",
     "output_type": "stream",
     "text": [
      "Accuracy score of test data :  1.0\n"
     ]
    }
   ],
   "source": [
    "print(\"Accuracy score of test data : \", accuracy_score(y_test, y_test_pred))"
   ]
  },
  {
   "cell_type": "code",
   "execution_count": 44,
   "id": "28ffa50c",
   "metadata": {
    "scrolled": false
   },
   "outputs": [
    {
     "data": {
      "text/plain": [
       "array([[7985,    0],\n",
       "       [   0, 1058]], dtype=int64)"
      ]
     },
     "execution_count": 44,
     "metadata": {},
     "output_type": "execute_result"
    }
   ],
   "source": [
    "confusion_matrix(y_test, y_test_pred)"
   ]
  },
  {
   "cell_type": "code",
   "execution_count": 45,
   "id": "17134043",
   "metadata": {
    "scrolled": false
   },
   "outputs": [
    {
     "name": "stdout",
     "output_type": "stream",
     "text": [
      "Precision score of test data :  1.0\n"
     ]
    }
   ],
   "source": [
    "print(\"Precision score of test data : \", precision_score(y_test, y_test_pred))"
   ]
  },
  {
   "cell_type": "code",
   "execution_count": 46,
   "id": "de71c0c7",
   "metadata": {
    "scrolled": true
   },
   "outputs": [
    {
     "name": "stdout",
     "output_type": "stream",
     "text": [
      "Recall score of test data :  1.0\n"
     ]
    }
   ],
   "source": [
    "print(\"Recall score of test data : \", recall_score(y_test, y_test_pred))"
   ]
  },
  {
   "cell_type": "code",
   "execution_count": 47,
   "id": "8b6a0aee",
   "metadata": {},
   "outputs": [
    {
     "name": "stdout",
     "output_type": "stream",
     "text": [
      "              precision    recall  f1-score   support\n",
      "\n",
      "           0       1.00      1.00      1.00     31937\n",
      "           1       1.00      1.00      1.00      4231\n",
      "\n",
      "    accuracy                           1.00     36168\n",
      "   macro avg       1.00      1.00      1.00     36168\n",
      "weighted avg       1.00      1.00      1.00     36168\n",
      "\n"
     ]
    }
   ],
   "source": [
    "print(classification_report(y_train,y_train_pred))"
   ]
  },
  {
   "cell_type": "markdown",
   "id": "6992c3e0",
   "metadata": {},
   "source": [
    "## 9. Model Deployment"
   ]
  },
  {
   "cell_type": "code",
   "execution_count": 48,
   "id": "87203f30",
   "metadata": {},
   "outputs": [],
   "source": [
    "from pickle import dump, load"
   ]
  },
  {
   "cell_type": "markdown",
   "id": "f5be811e",
   "metadata": {},
   "source": [
    "#### Pickling / Serialization"
   ]
  },
  {
   "cell_type": "code",
   "execution_count": 49,
   "id": "1ef08f73",
   "metadata": {},
   "outputs": [],
   "source": [
    "dump(log_reg, open('log_reg.pkl','wb')) #write bytes "
   ]
  },
  {
   "cell_type": "markdown",
   "id": "0dfe50af",
   "metadata": {},
   "source": [
    "#### # Unpickling / deserialization"
   ]
  },
  {
   "cell_type": "code",
   "execution_count": 50,
   "id": "942ed5f2",
   "metadata": {},
   "outputs": [],
   "source": [
    "log_reg_pickle = load(open('log_reg.pkl','rb')) "
   ]
  },
  {
   "cell_type": "code",
   "execution_count": 51,
   "id": "18320b25",
   "metadata": {},
   "outputs": [],
   "source": [
    "pickle_pred = log_reg_pickle.predict(X_test)"
   ]
  },
  {
   "cell_type": "markdown",
   "id": "5ec855eb",
   "metadata": {},
   "source": [
    "**------------------------------------------------------------------------------------------------------------------------------------------------------------------------------------------------------------------**"
   ]
  }
 ],
 "metadata": {
  "kernelspec": {
   "display_name": "Python 3",
   "language": "python",
   "name": "python3"
  },
  "language_info": {
   "codemirror_mode": {
    "name": "ipython",
    "version": 3
   },
   "file_extension": ".py",
   "mimetype": "text/x-python",
   "name": "python",
   "nbconvert_exporter": "python",
   "pygments_lexer": "ipython3",
   "version": "3.8.8"
  }
 },
 "nbformat": 4,
 "nbformat_minor": 5
}
